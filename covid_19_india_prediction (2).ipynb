{
 "cells": [
  {
   "cell_type": "code",
   "execution_count": 1,
   "id": "d92806a5",
   "metadata": {},
   "outputs": [],
   "source": [
    "import pandas as pd\n",
    "import numpy as np\n",
    "import seaborn as sns\n",
    "import matplotlib.pyplot as plt\n",
    "import datetime as dt"
   ]
  },
  {
   "cell_type": "code",
   "execution_count": 2,
   "id": "013bcf03",
   "metadata": {
    "scrolled": true
   },
   "outputs": [],
   "source": [
    "# Use a raw string to avoid the 'unicodeescape' error\n",
    "file_path = r\"C:\\Users\\TEMP\\Downloads\\covids_19_india.xlsx\"\n",
    "\n",
    "# Read the Excel file into a DataFrame\n",
    "df = pd.read_excel(file_path, parse_dates=['Date'])\n"
   ]
  },
  {
   "cell_type": "code",
   "execution_count": 3,
   "id": "68b3d5f2",
   "metadata": {},
   "outputs": [
    {
     "data": {
      "text/html": [
       "<div>\n",
       "<style scoped>\n",
       "    .dataframe tbody tr th:only-of-type {\n",
       "        vertical-align: middle;\n",
       "    }\n",
       "\n",
       "    .dataframe tbody tr th {\n",
       "        vertical-align: top;\n",
       "    }\n",
       "\n",
       "    .dataframe thead th {\n",
       "        text-align: right;\n",
       "    }\n",
       "</style>\n",
       "<table border=\"1\" class=\"dataframe\">\n",
       "  <thead>\n",
       "    <tr style=\"text-align: right;\">\n",
       "      <th></th>\n",
       "      <th>Sno</th>\n",
       "      <th>Date</th>\n",
       "      <th>Time</th>\n",
       "      <th>State/UnionTerritory</th>\n",
       "      <th>ConfirmedIndianNational</th>\n",
       "      <th>ConfirmedForeignNational</th>\n",
       "      <th>Cured</th>\n",
       "      <th>Deaths</th>\n",
       "      <th>Confirmed</th>\n",
       "    </tr>\n",
       "  </thead>\n",
       "  <tbody>\n",
       "    <tr>\n",
       "      <th>0</th>\n",
       "      <td>1</td>\n",
       "      <td>2020-01-30</td>\n",
       "      <td>18:00:00</td>\n",
       "      <td>Kerala</td>\n",
       "      <td>1</td>\n",
       "      <td>0</td>\n",
       "      <td>0</td>\n",
       "      <td>0</td>\n",
       "      <td>1</td>\n",
       "    </tr>\n",
       "    <tr>\n",
       "      <th>1</th>\n",
       "      <td>2</td>\n",
       "      <td>2020-01-31</td>\n",
       "      <td>18:00:00</td>\n",
       "      <td>Kerala</td>\n",
       "      <td>1</td>\n",
       "      <td>0</td>\n",
       "      <td>0</td>\n",
       "      <td>0</td>\n",
       "      <td>1</td>\n",
       "    </tr>\n",
       "    <tr>\n",
       "      <th>2</th>\n",
       "      <td>3</td>\n",
       "      <td>2020-02-01</td>\n",
       "      <td>18:00:00</td>\n",
       "      <td>Kerala</td>\n",
       "      <td>2</td>\n",
       "      <td>0</td>\n",
       "      <td>0</td>\n",
       "      <td>0</td>\n",
       "      <td>2</td>\n",
       "    </tr>\n",
       "    <tr>\n",
       "      <th>3</th>\n",
       "      <td>4</td>\n",
       "      <td>2020-02-02</td>\n",
       "      <td>18:00:00</td>\n",
       "      <td>Kerala</td>\n",
       "      <td>3</td>\n",
       "      <td>0</td>\n",
       "      <td>0</td>\n",
       "      <td>0</td>\n",
       "      <td>3</td>\n",
       "    </tr>\n",
       "    <tr>\n",
       "      <th>4</th>\n",
       "      <td>5</td>\n",
       "      <td>2020-02-03</td>\n",
       "      <td>18:00:00</td>\n",
       "      <td>Kerala</td>\n",
       "      <td>3</td>\n",
       "      <td>0</td>\n",
       "      <td>0</td>\n",
       "      <td>0</td>\n",
       "      <td>3</td>\n",
       "    </tr>\n",
       "  </tbody>\n",
       "</table>\n",
       "</div>"
      ],
      "text/plain": [
       "   Sno       Date      Time State/UnionTerritory ConfirmedIndianNational  \\\n",
       "0    1 2020-01-30  18:00:00               Kerala                       1   \n",
       "1    2 2020-01-31  18:00:00               Kerala                       1   \n",
       "2    3 2020-02-01  18:00:00               Kerala                       2   \n",
       "3    4 2020-02-02  18:00:00               Kerala                       3   \n",
       "4    5 2020-02-03  18:00:00               Kerala                       3   \n",
       "\n",
       "  ConfirmedForeignNational  Cured  Deaths  Confirmed  \n",
       "0                        0      0       0          1  \n",
       "1                        0      0       0          1  \n",
       "2                        0      0       0          2  \n",
       "3                        0      0       0          3  \n",
       "4                        0      0       0          3  "
      ]
     },
     "execution_count": 3,
     "metadata": {},
     "output_type": "execute_result"
    }
   ],
   "source": [
    "df.head()"
   ]
  },
  {
   "cell_type": "code",
   "execution_count": 4,
   "id": "3389e04c",
   "metadata": {},
   "outputs": [
    {
     "name": "stdout",
     "output_type": "stream",
     "text": [
      "<class 'pandas.core.frame.DataFrame'>\n",
      "RangeIndex: 18110 entries, 0 to 18109\n",
      "Data columns (total 9 columns):\n",
      " #   Column                    Non-Null Count  Dtype         \n",
      "---  ------                    --------------  -----         \n",
      " 0   Sno                       18110 non-null  int64         \n",
      " 1   Date                      18110 non-null  datetime64[ns]\n",
      " 2   Time                      18110 non-null  object        \n",
      " 3   State/UnionTerritory      18110 non-null  object        \n",
      " 4   ConfirmedIndianNational   18108 non-null  object        \n",
      " 5   ConfirmedForeignNational  18110 non-null  object        \n",
      " 6   Cured                     18110 non-null  int64         \n",
      " 7   Deaths                    18110 non-null  int64         \n",
      " 8   Confirmed                 18110 non-null  int64         \n",
      "dtypes: datetime64[ns](1), int64(4), object(4)\n",
      "memory usage: 1.2+ MB\n"
     ]
    }
   ],
   "source": [
    "df.info()"
   ]
  },
  {
   "cell_type": "code",
   "execution_count": 5,
   "id": "ee53e8f5",
   "metadata": {},
   "outputs": [
    {
     "data": {
      "text/plain": [
       "<bound method NDFrame.describe of          Sno       Date      Time State/UnionTerritory  \\\n",
       "0          1 2020-01-30  18:00:00               Kerala   \n",
       "1          2 2020-01-31  18:00:00               Kerala   \n",
       "2          3 2020-02-01  18:00:00               Kerala   \n",
       "3          4 2020-02-02  18:00:00               Kerala   \n",
       "4          5 2020-02-03  18:00:00               Kerala   \n",
       "...      ...        ...       ...                  ...   \n",
       "18105  18106 2021-08-11  08:00:00            Telangana   \n",
       "18106  18107 2021-08-11  08:00:00              Tripura   \n",
       "18107  18108 2021-08-11  08:00:00          Uttarakhand   \n",
       "18108  18109 2021-08-11  08:00:00        Uttar Pradesh   \n",
       "18109  18110 2021-08-11  08:00:00          West Bengal   \n",
       "\n",
       "      ConfirmedIndianNational ConfirmedForeignNational    Cured  Deaths  \\\n",
       "0                           1                        0        0       0   \n",
       "1                           1                        0        0       0   \n",
       "2                           2                        0        0       0   \n",
       "3                           3                        0        0       0   \n",
       "4                           3                        0        0       0   \n",
       "...                       ...                      ...      ...     ...   \n",
       "18105                       -                        -   638410    3831   \n",
       "18106                       -                        -    77811     773   \n",
       "18107                       -                        -   334650    7368   \n",
       "18108                       -                        -  1685492   22775   \n",
       "18109                       -                        -  1506532   18252   \n",
       "\n",
       "       Confirmed  \n",
       "0              1  \n",
       "1              1  \n",
       "2              2  \n",
       "3              3  \n",
       "4              3  \n",
       "...          ...  \n",
       "18105     650353  \n",
       "18106      80660  \n",
       "18107     342462  \n",
       "18108    1708812  \n",
       "18109    1534999  \n",
       "\n",
       "[18110 rows x 9 columns]>"
      ]
     },
     "execution_count": 5,
     "metadata": {},
     "output_type": "execute_result"
    }
   ],
   "source": [
    "df.describe"
   ]
  },
  {
   "cell_type": "code",
   "execution_count": 6,
   "id": "7dae681b",
   "metadata": {},
   "outputs": [
    {
     "data": {
      "text/plain": [
       "Sno                         0\n",
       "Date                        0\n",
       "Time                        0\n",
       "State/UnionTerritory        0\n",
       "ConfirmedIndianNational     2\n",
       "ConfirmedForeignNational    0\n",
       "Cured                       0\n",
       "Deaths                      0\n",
       "Confirmed                   0\n",
       "dtype: int64"
      ]
     },
     "execution_count": 6,
     "metadata": {},
     "output_type": "execute_result"
    }
   ],
   "source": [
    "df.isnull().sum()"
   ]
  },
  {
   "cell_type": "code",
   "execution_count": 7,
   "id": "bcf41648",
   "metadata": {},
   "outputs": [
    {
     "name": "stderr",
     "output_type": "stream",
     "text": [
      "C:\\Users\\TEMP\\AppData\\Local\\Temp\\ipykernel_50504\\2121121069.py:1: FutureWarning: The default value of numeric_only in DataFrame.corr is deprecated. In a future version, it will default to False. Select only valid columns or specify the value of numeric_only to silence this warning.\n",
      "  sns.heatmap(df.corr(),annot = True)\n"
     ]
    },
    {
     "data": {
      "image/png": "[encoded data removed]",
      "text/plain": [
       "<Figure size 640x480 with 2 Axes>"
      ]
     },
     "metadata": {},
     "output_type": "display_data"
    }
   ],
   "source": [
    "sns.heatmap(df.corr(),annot = True)\n",
    "plt.show()"
   ]
  },
  {
   "cell_type": "code",
   "execution_count": 8,
   "id": "ba045117",
   "metadata": {},
   "outputs": [],
   "source": [
    "df.dropna(inplace = True)"
   ]
  },
  {
   "cell_type": "code",
   "execution_count": 9,
   "id": "fc2ed369",
   "metadata": {},
   "outputs": [],
   "source": [
    "df = df[['Date','State/UnionTerritory',\n",
    "        'Cured',\n",
    "       'Deaths', 'Confirmed']]\n",
    "df.columns = ['Date','State',\n",
    "        'Cured',\n",
    "       'Deaths', 'Confirmed']"
   ]
  },
  {
   "cell_type": "code",
   "execution_count": 10,
   "id": "71cd10ee",
   "metadata": {},
   "outputs": [
    {
     "data": {
      "text/html": [
       "<div>\n",
       "<style scoped>\n",
       "    .dataframe tbody tr th:only-of-type {\n",
       "        vertical-align: middle;\n",
       "    }\n",
       "\n",
       "    .dataframe tbody tr th {\n",
       "        vertical-align: top;\n",
       "    }\n",
       "\n",
       "    .dataframe thead th {\n",
       "        text-align: right;\n",
       "    }\n",
       "</style>\n",
       "<table border=\"1\" class=\"dataframe\">\n",
       "  <thead>\n",
       "    <tr style=\"text-align: right;\">\n",
       "      <th></th>\n",
       "      <th>Date</th>\n",
       "      <th>State</th>\n",
       "      <th>Cured</th>\n",
       "      <th>Deaths</th>\n",
       "      <th>Confirmed</th>\n",
       "    </tr>\n",
       "  </thead>\n",
       "  <tbody>\n",
       "    <tr>\n",
       "      <th>14078</th>\n",
       "      <td>2021-04-22</td>\n",
       "      <td>Andaman and Nicobar Islands</td>\n",
       "      <td>5276</td>\n",
       "      <td>64</td>\n",
       "      <td>5490</td>\n",
       "    </tr>\n",
       "    <tr>\n",
       "      <th>14079</th>\n",
       "      <td>2021-04-22</td>\n",
       "      <td>Andhra Pradesh</td>\n",
       "      <td>918985</td>\n",
       "      <td>7510</td>\n",
       "      <td>986703</td>\n",
       "    </tr>\n",
       "    <tr>\n",
       "      <th>14080</th>\n",
       "      <td>2021-04-22</td>\n",
       "      <td>Arunachal Pradesh</td>\n",
       "      <td>16851</td>\n",
       "      <td>56</td>\n",
       "      <td>17186</td>\n",
       "    </tr>\n",
       "    <tr>\n",
       "      <th>14081</th>\n",
       "      <td>2021-04-22</td>\n",
       "      <td>Assam</td>\n",
       "      <td>217593</td>\n",
       "      <td>1150</td>\n",
       "      <td>229138</td>\n",
       "    </tr>\n",
       "    <tr>\n",
       "      <th>14082</th>\n",
       "      <td>2021-04-22</td>\n",
       "      <td>Bihar</td>\n",
       "      <td>288637</td>\n",
       "      <td>1897</td>\n",
       "      <td>354281</td>\n",
       "    </tr>\n",
       "    <tr>\n",
       "      <th>14083</th>\n",
       "      <td>2021-04-22</td>\n",
       "      <td>Chandigarh</td>\n",
       "      <td>31222</td>\n",
       "      <td>423</td>\n",
       "      <td>35770</td>\n",
       "    </tr>\n",
       "    <tr>\n",
       "      <th>14084</th>\n",
       "      <td>2021-04-22</td>\n",
       "      <td>Chhattisgarh</td>\n",
       "      <td>459600</td>\n",
       "      <td>6467</td>\n",
       "      <td>588818</td>\n",
       "    </tr>\n",
       "    <tr>\n",
       "      <th>14085</th>\n",
       "      <td>2021-04-22</td>\n",
       "      <td>Dadra and Nagar Haveli and Daman and Diu</td>\n",
       "      <td>4150</td>\n",
       "      <td>4</td>\n",
       "      <td>5672</td>\n",
       "    </tr>\n",
       "    <tr>\n",
       "      <th>14086</th>\n",
       "      <td>2021-04-22</td>\n",
       "      <td>Delhi</td>\n",
       "      <td>831928</td>\n",
       "      <td>12887</td>\n",
       "      <td>930179</td>\n",
       "    </tr>\n",
       "    <tr>\n",
       "      <th>14087</th>\n",
       "      <td>2021-04-22</td>\n",
       "      <td>Goa</td>\n",
       "      <td>60571</td>\n",
       "      <td>943</td>\n",
       "      <td>70814</td>\n",
       "    </tr>\n",
       "    <tr>\n",
       "      <th>14088</th>\n",
       "      <td>2021-04-22</td>\n",
       "      <td>Gujarat</td>\n",
       "      <td>350865</td>\n",
       "      <td>5740</td>\n",
       "      <td>440731</td>\n",
       "    </tr>\n",
       "    <tr>\n",
       "      <th>14089</th>\n",
       "      <td>2021-04-22</td>\n",
       "      <td>Haryana</td>\n",
       "      <td>322297</td>\n",
       "      <td>3528</td>\n",
       "      <td>381247</td>\n",
       "    </tr>\n",
       "    <tr>\n",
       "      <th>14090</th>\n",
       "      <td>2021-04-22</td>\n",
       "      <td>Himachal Pradesh</td>\n",
       "      <td>69073</td>\n",
       "      <td>1236</td>\n",
       "      <td>81102</td>\n",
       "    </tr>\n",
       "    <tr>\n",
       "      <th>14091</th>\n",
       "      <td>2021-04-22</td>\n",
       "      <td>Jammu and Kashmir</td>\n",
       "      <td>135430</td>\n",
       "      <td>2084</td>\n",
       "      <td>152442</td>\n",
       "    </tr>\n",
       "    <tr>\n",
       "      <th>14092</th>\n",
       "      <td>2021-04-22</td>\n",
       "      <td>Jharkhand</td>\n",
       "      <td>139921</td>\n",
       "      <td>1609</td>\n",
       "      <td>177356</td>\n",
       "    </tr>\n",
       "    <tr>\n",
       "      <th>14093</th>\n",
       "      <td>2021-04-22</td>\n",
       "      <td>Karnataka</td>\n",
       "      <td>1032233</td>\n",
       "      <td>13762</td>\n",
       "      <td>1222202</td>\n",
       "    </tr>\n",
       "    <tr>\n",
       "      <th>14094</th>\n",
       "      <td>2021-04-22</td>\n",
       "      <td>Kerala</td>\n",
       "      <td>1154102</td>\n",
       "      <td>5000</td>\n",
       "      <td>1295059</td>\n",
       "    </tr>\n",
       "    <tr>\n",
       "      <th>14095</th>\n",
       "      <td>2021-04-22</td>\n",
       "      <td>Ladakh</td>\n",
       "      <td>10630</td>\n",
       "      <td>134</td>\n",
       "      <td>12739</td>\n",
       "    </tr>\n",
       "    <tr>\n",
       "      <th>14096</th>\n",
       "      <td>2021-04-22</td>\n",
       "      <td>Lakshadweep</td>\n",
       "      <td>833</td>\n",
       "      <td>1</td>\n",
       "      <td>1526</td>\n",
       "    </tr>\n",
       "    <tr>\n",
       "      <th>14097</th>\n",
       "      <td>2021-04-22</td>\n",
       "      <td>Madhya Pradesh</td>\n",
       "      <td>359755</td>\n",
       "      <td>4788</td>\n",
       "      <td>446811</td>\n",
       "    </tr>\n",
       "    <tr>\n",
       "      <th>14098</th>\n",
       "      <td>2021-04-22</td>\n",
       "      <td>Maharashtra</td>\n",
       "      <td>3268449</td>\n",
       "      <td>61911</td>\n",
       "      <td>4027827</td>\n",
       "    </tr>\n",
       "    <tr>\n",
       "      <th>14099</th>\n",
       "      <td>2021-04-22</td>\n",
       "      <td>Manipur</td>\n",
       "      <td>29128</td>\n",
       "      <td>380</td>\n",
       "      <td>29961</td>\n",
       "    </tr>\n",
       "    <tr>\n",
       "      <th>14100</th>\n",
       "      <td>2021-04-22</td>\n",
       "      <td>Meghalaya</td>\n",
       "      <td>14130</td>\n",
       "      <td>157</td>\n",
       "      <td>15308</td>\n",
       "    </tr>\n",
       "    <tr>\n",
       "      <th>14101</th>\n",
       "      <td>2021-04-22</td>\n",
       "      <td>Mizoram</td>\n",
       "      <td>4576</td>\n",
       "      <td>12</td>\n",
       "      <td>5158</td>\n",
       "    </tr>\n",
       "    <tr>\n",
       "      <th>14102</th>\n",
       "      <td>2021-04-22</td>\n",
       "      <td>Nagaland</td>\n",
       "      <td>12306</td>\n",
       "      <td>94</td>\n",
       "      <td>12747</td>\n",
       "    </tr>\n",
       "    <tr>\n",
       "      <th>14103</th>\n",
       "      <td>2021-04-22</td>\n",
       "      <td>Odisha</td>\n",
       "      <td>351386</td>\n",
       "      <td>1958</td>\n",
       "      <td>382315</td>\n",
       "    </tr>\n",
       "    <tr>\n",
       "      <th>14104</th>\n",
       "      <td>2021-04-22</td>\n",
       "      <td>Puducherry</td>\n",
       "      <td>43467</td>\n",
       "      <td>722</td>\n",
       "      <td>49593</td>\n",
       "    </tr>\n",
       "    <tr>\n",
       "      <th>14105</th>\n",
       "      <td>2021-04-22</td>\n",
       "      <td>Punjab</td>\n",
       "      <td>267289</td>\n",
       "      <td>8114</td>\n",
       "      <td>314269</td>\n",
       "    </tr>\n",
       "    <tr>\n",
       "      <th>14106</th>\n",
       "      <td>2021-04-22</td>\n",
       "      <td>Rajasthan</td>\n",
       "      <td>353711</td>\n",
       "      <td>3330</td>\n",
       "      <td>453407</td>\n",
       "    </tr>\n",
       "    <tr>\n",
       "      <th>14107</th>\n",
       "      <td>2021-04-22</td>\n",
       "      <td>Sikkim</td>\n",
       "      <td>6174</td>\n",
       "      <td>136</td>\n",
       "      <td>6846</td>\n",
       "    </tr>\n",
       "    <tr>\n",
       "      <th>14108</th>\n",
       "      <td>2021-04-22</td>\n",
       "      <td>Tamil Nadu</td>\n",
       "      <td>927440</td>\n",
       "      <td>13258</td>\n",
       "      <td>1025059</td>\n",
       "    </tr>\n",
       "    <tr>\n",
       "      <th>14109</th>\n",
       "      <td>2021-04-22</td>\n",
       "      <td>Telengana</td>\n",
       "      <td>321788</td>\n",
       "      <td>1899</td>\n",
       "      <td>373468</td>\n",
       "    </tr>\n",
       "    <tr>\n",
       "      <th>14110</th>\n",
       "      <td>2021-04-22</td>\n",
       "      <td>Tripura</td>\n",
       "      <td>33268</td>\n",
       "      <td>394</td>\n",
       "      <td>34262</td>\n",
       "    </tr>\n",
       "    <tr>\n",
       "      <th>14111</th>\n",
       "      <td>2021-04-22</td>\n",
       "      <td>Uttarakhand</td>\n",
       "      <td>107166</td>\n",
       "      <td>1953</td>\n",
       "      <td>134012</td>\n",
       "    </tr>\n",
       "    <tr>\n",
       "      <th>14112</th>\n",
       "      <td>2021-04-22</td>\n",
       "      <td>Uttar Pradesh</td>\n",
       "      <td>689900</td>\n",
       "      <td>10346</td>\n",
       "      <td>942511</td>\n",
       "    </tr>\n",
       "    <tr>\n",
       "      <th>14113</th>\n",
       "      <td>2021-04-22</td>\n",
       "      <td>West Bengal</td>\n",
       "      <td>614750</td>\n",
       "      <td>10710</td>\n",
       "      <td>688956</td>\n",
       "    </tr>\n",
       "  </tbody>\n",
       "</table>\n",
       "</div>"
      ],
      "text/plain": [
       "            Date                                     State    Cured  Deaths  \\\n",
       "14078 2021-04-22               Andaman and Nicobar Islands     5276      64   \n",
       "14079 2021-04-22                            Andhra Pradesh   918985    7510   \n",
       "14080 2021-04-22                         Arunachal Pradesh    16851      56   \n",
       "14081 2021-04-22                                     Assam   217593    1150   \n",
       "14082 2021-04-22                                     Bihar   288637    1897   \n",
       "14083 2021-04-22                                Chandigarh    31222     423   \n",
       "14084 2021-04-22                              Chhattisgarh   459600    6467   \n",
       "14085 2021-04-22  Dadra and Nagar Haveli and Daman and Diu     4150       4   \n",
       "14086 2021-04-22                                     Delhi   831928   12887   \n",
       "14087 2021-04-22                                       Goa    60571     943   \n",
       "14088 2021-04-22                                   Gujarat   350865    5740   \n",
       "14089 2021-04-22                                   Haryana   322297    3528   \n",
       "14090 2021-04-22                          Himachal Pradesh    69073    1236   \n",
       "14091 2021-04-22                         Jammu and Kashmir   135430    2084   \n",
       "14092 2021-04-22                                 Jharkhand   139921    1609   \n",
       "14093 2021-04-22                                 Karnataka  1032233   13762   \n",
       "14094 2021-04-22                                    Kerala  1154102    5000   \n",
       "14095 2021-04-22                                    Ladakh    10630     134   \n",
       "14096 2021-04-22                               Lakshadweep      833       1   \n",
       "14097 2021-04-22                            Madhya Pradesh   359755    4788   \n",
       "14098 2021-04-22                               Maharashtra  3268449   61911   \n",
       "14099 2021-04-22                                   Manipur    29128     380   \n",
       "14100 2021-04-22                                 Meghalaya    14130     157   \n",
       "14101 2021-04-22                                   Mizoram     4576      12   \n",
       "14102 2021-04-22                                  Nagaland    12306      94   \n",
       "14103 2021-04-22                                    Odisha   351386    1958   \n",
       "14104 2021-04-22                                Puducherry    43467     722   \n",
       "14105 2021-04-22                                    Punjab   267289    8114   \n",
       "14106 2021-04-22                                 Rajasthan   353711    3330   \n",
       "14107 2021-04-22                                    Sikkim     6174     136   \n",
       "14108 2021-04-22                                Tamil Nadu   927440   13258   \n",
       "14109 2021-04-22                                 Telengana   321788    1899   \n",
       "14110 2021-04-22                                   Tripura    33268     394   \n",
       "14111 2021-04-22                               Uttarakhand   107166    1953   \n",
       "14112 2021-04-22                             Uttar Pradesh   689900   10346   \n",
       "14113 2021-04-22                               West Bengal   614750   10710   \n",
       "\n",
       "       Confirmed  \n",
       "14078       5490  \n",
       "14079     986703  \n",
       "14080      17186  \n",
       "14081     229138  \n",
       "14082     354281  \n",
       "14083      35770  \n",
       "14084     588818  \n",
       "14085       5672  \n",
       "14086     930179  \n",
       "14087      70814  \n",
       "14088     440731  \n",
       "14089     381247  \n",
       "14090      81102  \n",
       "14091     152442  \n",
       "14092     177356  \n",
       "14093    1222202  \n",
       "14094    1295059  \n",
       "14095      12739  \n",
       "14096       1526  \n",
       "14097     446811  \n",
       "14098    4027827  \n",
       "14099      29961  \n",
       "14100      15308  \n",
       "14101       5158  \n",
       "14102      12747  \n",
       "14103     382315  \n",
       "14104      49593  \n",
       "14105     314269  \n",
       "14106     453407  \n",
       "14107       6846  \n",
       "14108    1025059  \n",
       "14109     373468  \n",
       "14110      34262  \n",
       "14111     134012  \n",
       "14112     942511  \n",
       "14113     688956  "
      ]
     },
     "execution_count": 10,
     "metadata": {},
     "output_type": "execute_result"
    }
   ],
   "source": [
    "today = df[df.Date=='2021-04-22']\n",
    "today"
   ]
  },
  {
   "cell_type": "code",
   "execution_count": 11,
   "id": "cf357999",
   "metadata": {},
   "outputs": [
    {
     "data": {
      "text/html": [
       "<div>\n",
       "<style scoped>\n",
       "    .dataframe tbody tr th:only-of-type {\n",
       "        vertical-align: middle;\n",
       "    }\n",
       "\n",
       "    .dataframe tbody tr th {\n",
       "        vertical-align: top;\n",
       "    }\n",
       "\n",
       "    .dataframe thead th {\n",
       "        text-align: right;\n",
       "    }\n",
       "</style>\n",
       "<table border=\"1\" class=\"dataframe\">\n",
       "  <thead>\n",
       "    <tr style=\"text-align: right;\">\n",
       "      <th></th>\n",
       "      <th>Date</th>\n",
       "      <th>State</th>\n",
       "      <th>Cured</th>\n",
       "      <th>Deaths</th>\n",
       "      <th>Confirmed</th>\n",
       "    </tr>\n",
       "  </thead>\n",
       "  <tbody>\n",
       "    <tr>\n",
       "      <th>14098</th>\n",
       "      <td>2021-04-22</td>\n",
       "      <td>Maharashtra</td>\n",
       "      <td>3268449</td>\n",
       "      <td>61911</td>\n",
       "      <td>4027827</td>\n",
       "    </tr>\n",
       "    <tr>\n",
       "      <th>14094</th>\n",
       "      <td>2021-04-22</td>\n",
       "      <td>Kerala</td>\n",
       "      <td>1154102</td>\n",
       "      <td>5000</td>\n",
       "      <td>1295059</td>\n",
       "    </tr>\n",
       "    <tr>\n",
       "      <th>14093</th>\n",
       "      <td>2021-04-22</td>\n",
       "      <td>Karnataka</td>\n",
       "      <td>1032233</td>\n",
       "      <td>13762</td>\n",
       "      <td>1222202</td>\n",
       "    </tr>\n",
       "    <tr>\n",
       "      <th>14108</th>\n",
       "      <td>2021-04-22</td>\n",
       "      <td>Tamil Nadu</td>\n",
       "      <td>927440</td>\n",
       "      <td>13258</td>\n",
       "      <td>1025059</td>\n",
       "    </tr>\n",
       "    <tr>\n",
       "      <th>14079</th>\n",
       "      <td>2021-04-22</td>\n",
       "      <td>Andhra Pradesh</td>\n",
       "      <td>918985</td>\n",
       "      <td>7510</td>\n",
       "      <td>986703</td>\n",
       "    </tr>\n",
       "    <tr>\n",
       "      <th>14112</th>\n",
       "      <td>2021-04-22</td>\n",
       "      <td>Uttar Pradesh</td>\n",
       "      <td>689900</td>\n",
       "      <td>10346</td>\n",
       "      <td>942511</td>\n",
       "    </tr>\n",
       "    <tr>\n",
       "      <th>14086</th>\n",
       "      <td>2021-04-22</td>\n",
       "      <td>Delhi</td>\n",
       "      <td>831928</td>\n",
       "      <td>12887</td>\n",
       "      <td>930179</td>\n",
       "    </tr>\n",
       "    <tr>\n",
       "      <th>14113</th>\n",
       "      <td>2021-04-22</td>\n",
       "      <td>West Bengal</td>\n",
       "      <td>614750</td>\n",
       "      <td>10710</td>\n",
       "      <td>688956</td>\n",
       "    </tr>\n",
       "    <tr>\n",
       "      <th>14084</th>\n",
       "      <td>2021-04-22</td>\n",
       "      <td>Chhattisgarh</td>\n",
       "      <td>459600</td>\n",
       "      <td>6467</td>\n",
       "      <td>588818</td>\n",
       "    </tr>\n",
       "    <tr>\n",
       "      <th>14106</th>\n",
       "      <td>2021-04-22</td>\n",
       "      <td>Rajasthan</td>\n",
       "      <td>353711</td>\n",
       "      <td>3330</td>\n",
       "      <td>453407</td>\n",
       "    </tr>\n",
       "  </tbody>\n",
       "</table>\n",
       "</div>"
      ],
      "text/plain": [
       "            Date           State    Cured  Deaths  Confirmed\n",
       "14098 2021-04-22     Maharashtra  3268449   61911    4027827\n",
       "14094 2021-04-22          Kerala  1154102    5000    1295059\n",
       "14093 2021-04-22       Karnataka  1032233   13762    1222202\n",
       "14108 2021-04-22      Tamil Nadu   927440   13258    1025059\n",
       "14079 2021-04-22  Andhra Pradesh   918985    7510     986703\n",
       "14112 2021-04-22   Uttar Pradesh   689900   10346     942511\n",
       "14086 2021-04-22           Delhi   831928   12887     930179\n",
       "14113 2021-04-22     West Bengal   614750   10710     688956\n",
       "14084 2021-04-22    Chhattisgarh   459600    6467     588818\n",
       "14106 2021-04-22       Rajasthan   353711    3330     453407"
      ]
     },
     "execution_count": 11,
     "metadata": {},
     "output_type": "execute_result"
    }
   ],
   "source": [
    "max_confirmed_cases = today.sort_values(by = 'Confirmed',ascending= False)\n",
    "max_confirmed_cases.head(10)"
   ]
  },
  {
   "cell_type": "code",
   "execution_count": 12,
   "id": "d6230ca6",
   "metadata": {},
   "outputs": [
    {
     "data": {
      "image/png": "[encoded data removed]",
      "text/plain": [
       "<Figure size 640x480 with 1 Axes>"
      ]
     },
     "metadata": {},
     "output_type": "display_data"
    }
   ],
   "source": [
    "top_states_confirmed = max_confirmed_cases[0:5]\n",
    "sns.barplot(x = 'State',y = 'Confirmed',data= top_states_confirmed,hue='State')\n",
    "plt.show()"
   ]
  },
  {
   "cell_type": "code",
   "execution_count": 13,
   "id": "7b445f98",
   "metadata": {},
   "outputs": [
    {
     "data": {
      "text/html": [
       "<div>\n",
       "<style scoped>\n",
       "    .dataframe tbody tr th:only-of-type {\n",
       "        vertical-align: middle;\n",
       "    }\n",
       "\n",
       "    .dataframe tbody tr th {\n",
       "        vertical-align: top;\n",
       "    }\n",
       "\n",
       "    .dataframe thead th {\n",
       "        text-align: right;\n",
       "    }\n",
       "</style>\n",
       "<table border=\"1\" class=\"dataframe\">\n",
       "  <thead>\n",
       "    <tr style=\"text-align: right;\">\n",
       "      <th></th>\n",
       "      <th>Date</th>\n",
       "      <th>State</th>\n",
       "      <th>Cured</th>\n",
       "      <th>Deaths</th>\n",
       "      <th>Confirmed</th>\n",
       "    </tr>\n",
       "  </thead>\n",
       "  <tbody>\n",
       "    <tr>\n",
       "      <th>14098</th>\n",
       "      <td>2021-04-22</td>\n",
       "      <td>Maharashtra</td>\n",
       "      <td>3268449</td>\n",
       "      <td>61911</td>\n",
       "      <td>4027827</td>\n",
       "    </tr>\n",
       "    <tr>\n",
       "      <th>14093</th>\n",
       "      <td>2021-04-22</td>\n",
       "      <td>Karnataka</td>\n",
       "      <td>1032233</td>\n",
       "      <td>13762</td>\n",
       "      <td>1222202</td>\n",
       "    </tr>\n",
       "    <tr>\n",
       "      <th>14108</th>\n",
       "      <td>2021-04-22</td>\n",
       "      <td>Tamil Nadu</td>\n",
       "      <td>927440</td>\n",
       "      <td>13258</td>\n",
       "      <td>1025059</td>\n",
       "    </tr>\n",
       "    <tr>\n",
       "      <th>14086</th>\n",
       "      <td>2021-04-22</td>\n",
       "      <td>Delhi</td>\n",
       "      <td>831928</td>\n",
       "      <td>12887</td>\n",
       "      <td>930179</td>\n",
       "    </tr>\n",
       "    <tr>\n",
       "      <th>14113</th>\n",
       "      <td>2021-04-22</td>\n",
       "      <td>West Bengal</td>\n",
       "      <td>614750</td>\n",
       "      <td>10710</td>\n",
       "      <td>688956</td>\n",
       "    </tr>\n",
       "    <tr>\n",
       "      <th>14112</th>\n",
       "      <td>2021-04-22</td>\n",
       "      <td>Uttar Pradesh</td>\n",
       "      <td>689900</td>\n",
       "      <td>10346</td>\n",
       "      <td>942511</td>\n",
       "    </tr>\n",
       "    <tr>\n",
       "      <th>14105</th>\n",
       "      <td>2021-04-22</td>\n",
       "      <td>Punjab</td>\n",
       "      <td>267289</td>\n",
       "      <td>8114</td>\n",
       "      <td>314269</td>\n",
       "    </tr>\n",
       "    <tr>\n",
       "      <th>14079</th>\n",
       "      <td>2021-04-22</td>\n",
       "      <td>Andhra Pradesh</td>\n",
       "      <td>918985</td>\n",
       "      <td>7510</td>\n",
       "      <td>986703</td>\n",
       "    </tr>\n",
       "    <tr>\n",
       "      <th>14084</th>\n",
       "      <td>2021-04-22</td>\n",
       "      <td>Chhattisgarh</td>\n",
       "      <td>459600</td>\n",
       "      <td>6467</td>\n",
       "      <td>588818</td>\n",
       "    </tr>\n",
       "    <tr>\n",
       "      <th>14088</th>\n",
       "      <td>2021-04-22</td>\n",
       "      <td>Gujarat</td>\n",
       "      <td>350865</td>\n",
       "      <td>5740</td>\n",
       "      <td>440731</td>\n",
       "    </tr>\n",
       "  </tbody>\n",
       "</table>\n",
       "</div>"
      ],
      "text/plain": [
       "            Date           State    Cured  Deaths  Confirmed\n",
       "14098 2021-04-22     Maharashtra  3268449   61911    4027827\n",
       "14093 2021-04-22       Karnataka  1032233   13762    1222202\n",
       "14108 2021-04-22      Tamil Nadu   927440   13258    1025059\n",
       "14086 2021-04-22           Delhi   831928   12887     930179\n",
       "14113 2021-04-22     West Bengal   614750   10710     688956\n",
       "14112 2021-04-22   Uttar Pradesh   689900   10346     942511\n",
       "14105 2021-04-22          Punjab   267289    8114     314269\n",
       "14079 2021-04-22  Andhra Pradesh   918985    7510     986703\n",
       "14084 2021-04-22    Chhattisgarh   459600    6467     588818\n",
       "14088 2021-04-22         Gujarat   350865    5740     440731"
      ]
     },
     "execution_count": 13,
     "metadata": {},
     "output_type": "execute_result"
    }
   ],
   "source": [
    "max_confirmed_death = today.sort_values(by = 'Deaths',ascending= False)\n",
    "max_confirmed_death.head(10)"
   ]
  },
  {
   "cell_type": "code",
   "execution_count": 14,
   "id": "a80c0a01",
   "metadata": {},
   "outputs": [
    {
     "data": {
      "image/png": "[encoded data removed]",
      "text/plain": [
       "<Figure size 640x480 with 1 Axes>"
      ]
     },
     "metadata": {},
     "output_type": "display_data"
    }
   ],
   "source": [
    "top_states_death = max_confirmed_death[0:5]\n",
    "sns.barplot(x = 'State',y = 'Deaths',data= top_states_death,hue= 'State')\n",
    "plt.show()"
   ]
  },
  {
   "cell_type": "code",
   "execution_count": 15,
   "id": "d82e9bad",
   "metadata": {},
   "outputs": [
    {
     "data": {
      "text/html": [
       "<div>\n",
       "<style scoped>\n",
       "    .dataframe tbody tr th:only-of-type {\n",
       "        vertical-align: middle;\n",
       "    }\n",
       "\n",
       "    .dataframe tbody tr th {\n",
       "        vertical-align: top;\n",
       "    }\n",
       "\n",
       "    .dataframe thead th {\n",
       "        text-align: right;\n",
       "    }\n",
       "</style>\n",
       "<table border=\"1\" class=\"dataframe\">\n",
       "  <thead>\n",
       "    <tr style=\"text-align: right;\">\n",
       "      <th></th>\n",
       "      <th>Date</th>\n",
       "      <th>State</th>\n",
       "      <th>Cured</th>\n",
       "      <th>Deaths</th>\n",
       "      <th>Confirmed</th>\n",
       "    </tr>\n",
       "  </thead>\n",
       "  <tbody>\n",
       "    <tr>\n",
       "      <th>17770</th>\n",
       "      <td>2021-08-02</td>\n",
       "      <td>Maharashtra</td>\n",
       "      <td>6094896</td>\n",
       "      <td>132948</td>\n",
       "      <td>6310194</td>\n",
       "    </tr>\n",
       "    <tr>\n",
       "      <th>17806</th>\n",
       "      <td>2021-08-03</td>\n",
       "      <td>Maharashtra</td>\n",
       "      <td>6103325</td>\n",
       "      <td>133038</td>\n",
       "      <td>6315063</td>\n",
       "    </tr>\n",
       "    <tr>\n",
       "      <th>17842</th>\n",
       "      <td>2021-08-04</td>\n",
       "      <td>Maharashtra</td>\n",
       "      <td>6110124</td>\n",
       "      <td>133215</td>\n",
       "      <td>6321068</td>\n",
       "    </tr>\n",
       "    <tr>\n",
       "      <th>17878</th>\n",
       "      <td>2021-08-05</td>\n",
       "      <td>Maharashtra</td>\n",
       "      <td>6117560</td>\n",
       "      <td>133410</td>\n",
       "      <td>6327194</td>\n",
       "    </tr>\n",
       "    <tr>\n",
       "      <th>17914</th>\n",
       "      <td>2021-08-06</td>\n",
       "      <td>Maharashtra</td>\n",
       "      <td>6124278</td>\n",
       "      <td>133530</td>\n",
       "      <td>6336220</td>\n",
       "    </tr>\n",
       "    <tr>\n",
       "      <th>17950</th>\n",
       "      <td>2021-08-07</td>\n",
       "      <td>Maharashtra</td>\n",
       "      <td>6130137</td>\n",
       "      <td>133717</td>\n",
       "      <td>6341759</td>\n",
       "    </tr>\n",
       "    <tr>\n",
       "      <th>17986</th>\n",
       "      <td>2021-08-08</td>\n",
       "      <td>Maharashtra</td>\n",
       "      <td>6139493</td>\n",
       "      <td>133845</td>\n",
       "      <td>6347820</td>\n",
       "    </tr>\n",
       "    <tr>\n",
       "      <th>18022</th>\n",
       "      <td>2021-08-09</td>\n",
       "      <td>Maharashtra</td>\n",
       "      <td>6144388</td>\n",
       "      <td>133996</td>\n",
       "      <td>6353328</td>\n",
       "    </tr>\n",
       "    <tr>\n",
       "      <th>18058</th>\n",
       "      <td>2021-08-10</td>\n",
       "      <td>Maharashtra</td>\n",
       "      <td>6151956</td>\n",
       "      <td>134064</td>\n",
       "      <td>6357833</td>\n",
       "    </tr>\n",
       "    <tr>\n",
       "      <th>18094</th>\n",
       "      <td>2021-08-11</td>\n",
       "      <td>Maharashtra</td>\n",
       "      <td>6159676</td>\n",
       "      <td>134201</td>\n",
       "      <td>6363442</td>\n",
       "    </tr>\n",
       "  </tbody>\n",
       "</table>\n",
       "</div>"
      ],
      "text/plain": [
       "            Date        State    Cured  Deaths  Confirmed\n",
       "17770 2021-08-02  Maharashtra  6094896  132948    6310194\n",
       "17806 2021-08-03  Maharashtra  6103325  133038    6315063\n",
       "17842 2021-08-04  Maharashtra  6110124  133215    6321068\n",
       "17878 2021-08-05  Maharashtra  6117560  133410    6327194\n",
       "17914 2021-08-06  Maharashtra  6124278  133530    6336220\n",
       "17950 2021-08-07  Maharashtra  6130137  133717    6341759\n",
       "17986 2021-08-08  Maharashtra  6139493  133845    6347820\n",
       "18022 2021-08-09  Maharashtra  6144388  133996    6353328\n",
       "18058 2021-08-10  Maharashtra  6151956  134064    6357833\n",
       "18094 2021-08-11  Maharashtra  6159676  134201    6363442"
      ]
     },
     "execution_count": 15,
     "metadata": {},
     "output_type": "execute_result"
    }
   ],
   "source": [
    "maha = df[df.State=='Maharashtra']\n",
    "maha.tail(10)"
   ]
  },
  {
   "cell_type": "code",
   "execution_count": 16,
   "id": "5e00591f",
   "metadata": {},
   "outputs": [
    {
     "data": {
      "image/png": "[encoded data removed]",
      "text/plain": [
       "<Figure size 640x480 with 1 Axes>"
      ]
     },
     "metadata": {},
     "output_type": "display_data"
    }
   ],
   "source": [
    "sns.lineplot(x = 'Date',y = 'Confirmed',data= maha,color = 'r')\n",
    "plt.show()"
   ]
  },
  {
   "cell_type": "code",
   "execution_count": 17,
   "id": "6e8bcaf4",
   "metadata": {},
   "outputs": [
    {
     "data": {
      "image/png": "[encoded data removed]",
      "text/plain": [
       "<Figure size 640x480 with 1 Axes>"
      ]
     },
     "metadata": {},
     "output_type": "display_data"
    }
   ],
   "source": [
    "sns.lineplot(x = 'Date',y = 'Deaths',data= maha,color = 'g')\n",
    "plt.show()"
   ]
  },
  {
   "cell_type": "code",
   "execution_count": 18,
   "id": "c4582ca5",
   "metadata": {},
   "outputs": [
    {
     "data": {
      "text/html": [
       "<div>\n",
       "<style scoped>\n",
       "    .dataframe tbody tr th:only-of-type {\n",
       "        vertical-align: middle;\n",
       "    }\n",
       "\n",
       "    .dataframe tbody tr th {\n",
       "        vertical-align: top;\n",
       "    }\n",
       "\n",
       "    .dataframe thead th {\n",
       "        text-align: right;\n",
       "    }\n",
       "</style>\n",
       "<table border=\"1\" class=\"dataframe\">\n",
       "  <thead>\n",
       "    <tr style=\"text-align: right;\">\n",
       "      <th></th>\n",
       "      <th>Date</th>\n",
       "      <th>State</th>\n",
       "      <th>Cured</th>\n",
       "      <th>Deaths</th>\n",
       "      <th>Confirmed</th>\n",
       "    </tr>\n",
       "  </thead>\n",
       "  <tbody>\n",
       "    <tr>\n",
       "      <th>0</th>\n",
       "      <td>2020-01-30</td>\n",
       "      <td>Kerala</td>\n",
       "      <td>0</td>\n",
       "      <td>0</td>\n",
       "      <td>1</td>\n",
       "    </tr>\n",
       "    <tr>\n",
       "      <th>1</th>\n",
       "      <td>2020-01-31</td>\n",
       "      <td>Kerala</td>\n",
       "      <td>0</td>\n",
       "      <td>0</td>\n",
       "      <td>1</td>\n",
       "    </tr>\n",
       "    <tr>\n",
       "      <th>2</th>\n",
       "      <td>2020-02-01</td>\n",
       "      <td>Kerala</td>\n",
       "      <td>0</td>\n",
       "      <td>0</td>\n",
       "      <td>2</td>\n",
       "    </tr>\n",
       "    <tr>\n",
       "      <th>3</th>\n",
       "      <td>2020-02-02</td>\n",
       "      <td>Kerala</td>\n",
       "      <td>0</td>\n",
       "      <td>0</td>\n",
       "      <td>3</td>\n",
       "    </tr>\n",
       "    <tr>\n",
       "      <th>4</th>\n",
       "      <td>2020-02-03</td>\n",
       "      <td>Kerala</td>\n",
       "      <td>0</td>\n",
       "      <td>0</td>\n",
       "      <td>3</td>\n",
       "    </tr>\n",
       "    <tr>\n",
       "      <th>5</th>\n",
       "      <td>2020-02-04</td>\n",
       "      <td>Kerala</td>\n",
       "      <td>0</td>\n",
       "      <td>0</td>\n",
       "      <td>3</td>\n",
       "    </tr>\n",
       "    <tr>\n",
       "      <th>6</th>\n",
       "      <td>2020-02-05</td>\n",
       "      <td>Kerala</td>\n",
       "      <td>0</td>\n",
       "      <td>0</td>\n",
       "      <td>3</td>\n",
       "    </tr>\n",
       "    <tr>\n",
       "      <th>7</th>\n",
       "      <td>2020-02-06</td>\n",
       "      <td>Kerala</td>\n",
       "      <td>0</td>\n",
       "      <td>0</td>\n",
       "      <td>3</td>\n",
       "    </tr>\n",
       "    <tr>\n",
       "      <th>8</th>\n",
       "      <td>2020-02-07</td>\n",
       "      <td>Kerala</td>\n",
       "      <td>0</td>\n",
       "      <td>0</td>\n",
       "      <td>3</td>\n",
       "    </tr>\n",
       "    <tr>\n",
       "      <th>9</th>\n",
       "      <td>2020-02-08</td>\n",
       "      <td>Kerala</td>\n",
       "      <td>0</td>\n",
       "      <td>0</td>\n",
       "      <td>3</td>\n",
       "    </tr>\n",
       "  </tbody>\n",
       "</table>\n",
       "</div>"
      ],
      "text/plain": [
       "        Date   State  Cured  Deaths  Confirmed\n",
       "0 2020-01-30  Kerala      0       0          1\n",
       "1 2020-01-31  Kerala      0       0          1\n",
       "2 2020-02-01  Kerala      0       0          2\n",
       "3 2020-02-02  Kerala      0       0          3\n",
       "4 2020-02-03  Kerala      0       0          3\n",
       "5 2020-02-04  Kerala      0       0          3\n",
       "6 2020-02-05  Kerala      0       0          3\n",
       "7 2020-02-06  Kerala      0       0          3\n",
       "8 2020-02-07  Kerala      0       0          3\n",
       "9 2020-02-08  Kerala      0       0          3"
      ]
     },
     "execution_count": 18,
     "metadata": {},
     "output_type": "execute_result"
    }
   ],
   "source": [
    "kerala = df[df.State == 'Kerala']\n",
    "kerala.head(10)"
   ]
  },
  {
   "cell_type": "code",
   "execution_count": 19,
   "id": "56d0e86c",
   "metadata": {},
   "outputs": [
    {
     "data": {
      "image/png": "[encoded data removed]",
      "text/plain": [
       "<Figure size 640x480 with 1 Axes>"
      ]
     },
     "metadata": {},
     "output_type": "display_data"
    }
   ],
   "source": [
    "sns.lineplot(x = 'Date',y = 'Confirmed',data= kerala,color = 'b')\n",
    "plt.show()"
   ]
  },
  {
   "cell_type": "code",
   "execution_count": 20,
   "id": "c8a22618",
   "metadata": {},
   "outputs": [
    {
     "data": {
      "image/png": "[encoded data removed]",
      "text/plain": [
       "<Figure size 640x480 with 1 Axes>"
      ]
     },
     "metadata": {},
     "output_type": "display_data"
    }
   ],
   "source": [
    "sns.lineplot(x = 'Date',y = 'Deaths',data= kerala,color = 'y')\n",
    "plt.show()"
   ]
  },
  {
   "cell_type": "code",
   "execution_count": 21,
   "id": "12f61a72",
   "metadata": {},
   "outputs": [],
   "source": [
    "from sklearn.model_selection import train_test_split"
   ]
  },
  {
   "cell_type": "code",
   "execution_count": 22,
   "id": "3f2b3193",
   "metadata": {},
   "outputs": [
    {
     "name": "stdout",
     "output_type": "stream",
     "text": [
      "91       737494\n",
      "97       737495\n",
      "120      737496\n",
      "133      737497\n",
      "146      737498\n",
      "          ...  \n",
      "17950    738009\n",
      "17986    738010\n",
      "18022    738011\n",
      "18058    738012\n",
      "18094    738013\n",
      "Name: Date, Length: 519, dtype: int64\n"
     ]
    },
    {
     "name": "stderr",
     "output_type": "stream",
     "text": [
      "C:\\Users\\TEMP\\AppData\\Local\\Temp\\ipykernel_50504\\3565756944.py:1: SettingWithCopyWarning: \n",
      "A value is trying to be set on a copy of a slice from a DataFrame.\n",
      "Try using .loc[row_indexer,col_indexer] = value instead\n",
      "\n",
      "See the caveats in the documentation: https://pandas.pydata.org/pandas-docs/stable/user_guide/indexing.html#returning-a-view-versus-a-copy\n",
      "  var14=maha['Date'] = maha['Date'].map(dt.datetime.toordinal)\n"
     ]
    }
   ],
   "source": [
    "var14=maha['Date'] = maha['Date'].map(dt.datetime.toordinal)\n",
    "print(var14)"
   ]
  },
  {
   "cell_type": "code",
   "execution_count": 23,
   "id": "c915b898",
   "metadata": {},
   "outputs": [],
   "source": [
    "X = maha[['Date']]\n",
    "y = maha['Confirmed']"
   ]
  },
  {
   "cell_type": "code",
   "execution_count": 24,
   "id": "ce35bb65",
   "metadata": {},
   "outputs": [],
   "source": [
    "X_train,X_test,y_train,y_test = train_test_split(X,y, test_size = 0.2,random_state = 42)"
   ]
  },
  {
   "cell_type": "code",
   "execution_count": 25,
   "id": "d17804fa",
   "metadata": {},
   "outputs": [
    {
     "data": {
      "text/plain": [
       "415"
      ]
     },
     "execution_count": 25,
     "metadata": {},
     "output_type": "execute_result"
    }
   ],
   "source": [
    "len(X_train)"
   ]
  },
  {
   "cell_type": "code",
   "execution_count": 26,
   "id": "4a64bf36",
   "metadata": {},
   "outputs": [
    {
     "data": {
      "text/plain": [
       "104"
      ]
     },
     "execution_count": 26,
     "metadata": {},
     "output_type": "execute_result"
    }
   ],
   "source": [
    "len(X_test)"
   ]
  },
  {
   "cell_type": "code",
   "execution_count": 27,
   "id": "1e9ebc1c",
   "metadata": {},
   "outputs": [],
   "source": [
    "from sklearn.ensemble import RandomForestRegressor"
   ]
  },
  {
   "cell_type": "code",
   "execution_count": 28,
   "id": "c9a2fe2b",
   "metadata": {},
   "outputs": [
    {
     "data": {
      "text/html": [
       "<style>#sk-container-id-1 {color: black;}#sk-container-id-1 pre{padding: 0;}#sk-container-id-1 div.sk-toggleable {background-color: white;}#sk-container-id-1 label.sk-toggleable__label {cursor: pointer;display: block;width: 100%;margin-bottom: 0;padding: 0.3em;box-sizing: border-box;text-align: center;}#sk-container-id-1 label.sk-toggleable__label-arrow:before {content: \"▸\";float: left;margin-right: 0.25em;color: #696969;}#sk-container-id-1 label.sk-toggleable__label-arrow:hover:before {color: black;}#sk-container-id-1 div.sk-estimator:hover label.sk-toggleable__label-arrow:before {color: black;}#sk-container-id-1 div.sk-toggleable__content {max-height: 0;max-width: 0;overflow: hidden;text-align: left;background-color: #f0f8ff;}#sk-container-id-1 div.sk-toggleable__content pre {margin: 0.2em;color: black;border-radius: 0.25em;background-color: #f0f8ff;}#sk-container-id-1 input.sk-toggleable__control:checked~div.sk-toggleable__content {max-height: 200px;max-width: 100%;overflow: auto;}#sk-container-id-1 input.sk-toggleable__control:checked~label.sk-toggleable__label-arrow:before {content: \"▾\";}#sk-container-id-1 div.sk-estimator input.sk-toggleable__control:checked~label.sk-toggleable__label {background-color: #d4ebff;}#sk-container-id-1 div.sk-label input.sk-toggleable__control:checked~label.sk-toggleable__label {background-color: #d4ebff;}#sk-container-id-1 input.sk-hidden--visually {border: 0;clip: rect(1px 1px 1px 1px);clip: rect(1px, 1px, 1px, 1px);height: 1px;margin: -1px;overflow: hidden;padding: 0;position: absolute;width: 1px;}#sk-container-id-1 div.sk-estimator {font-family: monospace;background-color: #f0f8ff;border: 1px dotted black;border-radius: 0.25em;box-sizing: border-box;margin-bottom: 0.5em;}#sk-container-id-1 div.sk-estimator:hover {background-color: #d4ebff;}#sk-container-id-1 div.sk-parallel-item::after {content: \"\";width: 100%;border-bottom: 1px solid gray;flex-grow: 1;}#sk-container-id-1 div.sk-label:hover label.sk-toggleable__label {background-color: #d4ebff;}#sk-container-id-1 div.sk-serial::before {content: \"\";position: absolute;border-left: 1px solid gray;box-sizing: border-box;top: 0;bottom: 0;left: 50%;z-index: 0;}#sk-container-id-1 div.sk-serial {display: flex;flex-direction: column;align-items: center;background-color: white;padding-right: 0.2em;padding-left: 0.2em;position: relative;}#sk-container-id-1 div.sk-item {position: relative;z-index: 1;}#sk-container-id-1 div.sk-parallel {display: flex;align-items: stretch;justify-content: center;background-color: white;position: relative;}#sk-container-id-1 div.sk-item::before, #sk-container-id-1 div.sk-parallel-item::before {content: \"\";position: absolute;border-left: 1px solid gray;box-sizing: border-box;top: 0;bottom: 0;left: 50%;z-index: -1;}#sk-container-id-1 div.sk-parallel-item {display: flex;flex-direction: column;z-index: 1;position: relative;background-color: white;}#sk-container-id-1 div.sk-parallel-item:first-child::after {align-self: flex-end;width: 50%;}#sk-container-id-1 div.sk-parallel-item:last-child::after {align-self: flex-start;width: 50%;}#sk-container-id-1 div.sk-parallel-item:only-child::after {width: 0;}#sk-container-id-1 div.sk-dashed-wrapped {border: 1px dashed gray;margin: 0 0.4em 0.5em 0.4em;box-sizing: border-box;padding-bottom: 0.4em;background-color: white;}#sk-container-id-1 div.sk-label label {font-family: monospace;font-weight: bold;display: inline-block;line-height: 1.2em;}#sk-container-id-1 div.sk-label-container {text-align: center;}#sk-container-id-1 div.sk-container {/* jupyter's `normalize.less` sets `[hidden] { display: none; }` but bootstrap.min.css set `[hidden] { display: none !important; }` so we also need the `!important` here to be able to override the default hidden behavior on the sphinx rendered scikit-learn.org. See: https://github.com/scikit-learn/scikit-learn/issues/21755 */display: inline-block !important;position: relative;}#sk-container-id-1 div.sk-text-repr-fallback {display: none;}</style><div id=\"sk-container-id-1\" class=\"sk-top-container\"><div class=\"sk-text-repr-fallback\"><pre>RandomForestRegressor()</pre><b>In a Jupyter environment, please rerun this cell to show the HTML representation or trust the notebook. <br />On GitHub, the HTML representation is unable to render, please try loading this page with nbviewer.org.</b></div><div class=\"sk-container\" hidden><div class=\"sk-item\"><div class=\"sk-estimator sk-toggleable\"><input class=\"sk-toggleable__control sk-hidden--visually\" id=\"sk-estimator-id-1\" type=\"checkbox\" checked><label for=\"sk-estimator-id-1\" class=\"sk-toggleable__label sk-toggleable__label-arrow\">RandomForestRegressor</label><div class=\"sk-toggleable__content\"><pre>RandomForestRegressor()</pre></div></div></div></div></div>"
      ],
      "text/plain": [
       "RandomForestRegressor()"
      ]
     },
     "execution_count": 28,
     "metadata": {},
     "output_type": "execute_result"
    }
   ],
   "source": [
    "model = RandomForestRegressor()\n",
    "model"
   ]
  },
  {
   "cell_type": "code",
   "execution_count": 29,
   "id": "9f1e7c3e",
   "metadata": {},
   "outputs": [
    {
     "data": {
      "text/html": [
       "<style>#sk-container-id-2 {color: black;}#sk-container-id-2 pre{padding: 0;}#sk-container-id-2 div.sk-toggleable {background-color: white;}#sk-container-id-2 label.sk-toggleable__label {cursor: pointer;display: block;width: 100%;margin-bottom: 0;padding: 0.3em;box-sizing: border-box;text-align: center;}#sk-container-id-2 label.sk-toggleable__label-arrow:before {content: \"▸\";float: left;margin-right: 0.25em;color: #696969;}#sk-container-id-2 label.sk-toggleable__label-arrow:hover:before {color: black;}#sk-container-id-2 div.sk-estimator:hover label.sk-toggleable__label-arrow:before {color: black;}#sk-container-id-2 div.sk-toggleable__content {max-height: 0;max-width: 0;overflow: hidden;text-align: left;background-color: #f0f8ff;}#sk-container-id-2 div.sk-toggleable__content pre {margin: 0.2em;color: black;border-radius: 0.25em;background-color: #f0f8ff;}#sk-container-id-2 input.sk-toggleable__control:checked~div.sk-toggleable__content {max-height: 200px;max-width: 100%;overflow: auto;}#sk-container-id-2 input.sk-toggleable__control:checked~label.sk-toggleable__label-arrow:before {content: \"▾\";}#sk-container-id-2 div.sk-estimator input.sk-toggleable__control:checked~label.sk-toggleable__label {background-color: #d4ebff;}#sk-container-id-2 div.sk-label input.sk-toggleable__control:checked~label.sk-toggleable__label {background-color: #d4ebff;}#sk-container-id-2 input.sk-hidden--visually {border: 0;clip: rect(1px 1px 1px 1px);clip: rect(1px, 1px, 1px, 1px);height: 1px;margin: -1px;overflow: hidden;padding: 0;position: absolute;width: 1px;}#sk-container-id-2 div.sk-estimator {font-family: monospace;background-color: #f0f8ff;border: 1px dotted black;border-radius: 0.25em;box-sizing: border-box;margin-bottom: 0.5em;}#sk-container-id-2 div.sk-estimator:hover {background-color: #d4ebff;}#sk-container-id-2 div.sk-parallel-item::after {content: \"\";width: 100%;border-bottom: 1px solid gray;flex-grow: 1;}#sk-container-id-2 div.sk-label:hover label.sk-toggleable__label {background-color: #d4ebff;}#sk-container-id-2 div.sk-serial::before {content: \"\";position: absolute;border-left: 1px solid gray;box-sizing: border-box;top: 0;bottom: 0;left: 50%;z-index: 0;}#sk-container-id-2 div.sk-serial {display: flex;flex-direction: column;align-items: center;background-color: white;padding-right: 0.2em;padding-left: 0.2em;position: relative;}#sk-container-id-2 div.sk-item {position: relative;z-index: 1;}#sk-container-id-2 div.sk-parallel {display: flex;align-items: stretch;justify-content: center;background-color: white;position: relative;}#sk-container-id-2 div.sk-item::before, #sk-container-id-2 div.sk-parallel-item::before {content: \"\";position: absolute;border-left: 1px solid gray;box-sizing: border-box;top: 0;bottom: 0;left: 50%;z-index: -1;}#sk-container-id-2 div.sk-parallel-item {display: flex;flex-direction: column;z-index: 1;position: relative;background-color: white;}#sk-container-id-2 div.sk-parallel-item:first-child::after {align-self: flex-end;width: 50%;}#sk-container-id-2 div.sk-parallel-item:last-child::after {align-self: flex-start;width: 50%;}#sk-container-id-2 div.sk-parallel-item:only-child::after {width: 0;}#sk-container-id-2 div.sk-dashed-wrapped {border: 1px dashed gray;margin: 0 0.4em 0.5em 0.4em;box-sizing: border-box;padding-bottom: 0.4em;background-color: white;}#sk-container-id-2 div.sk-label label {font-family: monospace;font-weight: bold;display: inline-block;line-height: 1.2em;}#sk-container-id-2 div.sk-label-container {text-align: center;}#sk-container-id-2 div.sk-container {/* jupyter's `normalize.less` sets `[hidden] { display: none; }` but bootstrap.min.css set `[hidden] { display: none !important; }` so we also need the `!important` here to be able to override the default hidden behavior on the sphinx rendered scikit-learn.org. See: https://github.com/scikit-learn/scikit-learn/issues/21755 */display: inline-block !important;position: relative;}#sk-container-id-2 div.sk-text-repr-fallback {display: none;}</style><div id=\"sk-container-id-2\" class=\"sk-top-container\"><div class=\"sk-text-repr-fallback\"><pre>RandomForestRegressor()</pre><b>In a Jupyter environment, please rerun this cell to show the HTML representation or trust the notebook. <br />On GitHub, the HTML representation is unable to render, please try loading this page with nbviewer.org.</b></div><div class=\"sk-container\" hidden><div class=\"sk-item\"><div class=\"sk-estimator sk-toggleable\"><input class=\"sk-toggleable__control sk-hidden--visually\" id=\"sk-estimator-id-2\" type=\"checkbox\" checked><label for=\"sk-estimator-id-2\" class=\"sk-toggleable__label sk-toggleable__label-arrow\">RandomForestRegressor</label><div class=\"sk-toggleable__content\"><pre>RandomForestRegressor()</pre></div></div></div></div></div>"
      ],
      "text/plain": [
       "RandomForestRegressor()"
      ]
     },
     "execution_count": 29,
     "metadata": {},
     "output_type": "execute_result"
    }
   ],
   "source": [
    "model_train = model.fit(X_train,y_train)\n",
    "model_train"
   ]
  },
  {
   "cell_type": "code",
   "execution_count": 30,
   "id": "142e72df",
   "metadata": {},
   "outputs": [
    {
     "data": {
      "text/plain": [
       "array([1.86172668e+06, 9.27623000e+04, 3.33700000e+01, 6.75952660e+05,\n",
       "       8.35056900e+04, 6.32415812e+06, 2.20303548e+06, 1.63322617e+06,\n",
       "       1.12915719e+06, 6.08074931e+06, 1.53944168e+06, 8.73995070e+05,\n",
       "       1.96798756e+06, 6.29448703e+06, 4.67700000e+01, 2.57673254e+06,\n",
       "       2.32076994e+06, 1.04710000e+03, 6.18697931e+06, 3.50847040e+05,\n",
       "       5.31536610e+05, 6.92274300e+04, 1.96128850e+05, 7.31932370e+05,\n",
       "       2.01219402e+06, 2.03120308e+06, 6.01500600e+04, 5.78443059e+06,\n",
       "       6.27852766e+06, 1.75139070e+06, 1.73728377e+06, 2.05530412e+06,\n",
       "       2.03741712e+06, 4.24300000e+01, 1.87375403e+06, 2.84547100e+04,\n",
       "       4.50193260e+06, 1.34729884e+06, 3.03125419e+06, 1.95943212e+06,\n",
       "       1.93784249e+06, 2.08806563e+06, 1.28675700e+04, 6.33886626e+06,\n",
       "       6.35199876e+06, 5.65462490e+05, 1.57987428e+06, 1.76146855e+06,\n",
       "       5.07262830e+05, 7.97026090e+05, 1.44992190e+06, 1.90425432e+06,\n",
       "       4.69732800e+04, 5.06959387e+06, 2.09837152e+06, 4.54371830e+05,\n",
       "       5.99969534e+06, 4.26404000e+04, 6.70000000e+00, 4.81580400e+04,\n",
       "       3.42856931e+06, 6.34769330e+06, 6.12732882e+06, 1.93060240e+06,\n",
       "       2.24473600e+04, 6.02181912e+06, 1.88417635e+06, 3.50396600e+04,\n",
       "       7.63900390e+05, 1.66355000e+03, 3.94002200e+04, 5.67104700e+04,\n",
       "       6.70000000e+00, 6.79700000e+01, 2.04951306e+06, 2.47760000e+02,\n",
       "       5.91066699e+06, 6.30609422e+06, 1.30323340e+05, 6.38613500e+04,\n",
       "       9.78696270e+05, 3.79861050e+05, 1.41720000e+02, 2.14663135e+06,\n",
       "       3.14152660e+05, 2.43016520e+05, 1.18946760e+05, 3.40388000e+03,\n",
       "       5.97673265e+06, 6.72060000e+03, 1.98830015e+06, 5.61551682e+06,\n",
       "       2.23090708e+06, 8.35583120e+05, 1.89400264e+06, 2.07724453e+06,\n",
       "       2.92887010e+05, 5.32935760e+06, 5.83551485e+06, 3.02329300e+04,\n",
       "       2.16390104e+06, 4.84706839e+06, 2.04164005e+06, 1.61640948e+06])"
      ]
     },
     "execution_count": 30,
     "metadata": {},
     "output_type": "execute_result"
    }
   ],
   "source": [
    "model_test = model.predict(X_test)\n",
    "model_test"
   ]
  },
  {
   "cell_type": "code",
   "execution_count": 31,
   "id": "a31d83f9",
   "metadata": {},
   "outputs": [
    {
     "data": {
      "text/plain": [
       "0.9999948547787515"
      ]
     },
     "execution_count": 31,
     "metadata": {},
     "output_type": "execute_result"
    }
   ],
   "source": [
    "model_score = model.score(X_train,y_train)\n",
    "model_score"
   ]
  },
  {
   "cell_type": "code",
   "execution_count": 32,
   "id": "3c602fcc",
   "metadata": {},
   "outputs": [
    {
     "data": {
      "text/plain": [
       "0.999982107596094"
      ]
     },
     "execution_count": 32,
     "metadata": {},
     "output_type": "execute_result"
    }
   ],
   "source": [
    "model_score2 = model.score(X_test,y_test)\n",
    "model_score2"
   ]
  },
  {
   "cell_type": "code",
   "execution_count": 33,
   "id": "23e492a8",
   "metadata": {},
   "outputs": [
    {
     "data": {
      "image/png": "[encoded data removed]",
      "text/plain": [
       "<Figure size 640x480 with 1 Axes>"
      ]
     },
     "metadata": {},
     "output_type": "display_data"
    }
   ],
   "source": [
    "plt.scatter(y_test,model_test)\n",
    "plt.show()"
   ]
  },
  {
   "cell_type": "code",
   "execution_count": null,
   "id": "3751eae1",
   "metadata": {},
   "outputs": [],
   "source": []
  }
 ],
 "metadata": {
  "kernelspec": {
   "display_name": "Python 3 (ipykernel)",
   "language": "python",
   "name": "python3"
  },
  "language_info": {
   "codemirror_mode": {
    "name": "ipython",
    "version": 3
   },
   "file_extension": ".py",
   "mimetype": "text/x-python",
   "name": "python",
   "nbconvert_exporter": "python",
   "pygments_lexer": "ipython3",
   "version": "3.11.4"
  }
 },
 "nbformat": 4,
 "nbformat_minor": 5
}
